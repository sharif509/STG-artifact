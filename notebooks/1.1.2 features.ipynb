{
 "cells": [
  {
   "cell_type": "markdown",
   "metadata": {
    "id": "jCtvFTeaWk23"
   },
   "source": [
    "# Mine developers' Profiles, Gender, and Location\n",
    "<!-- Sharif Ahmed -->"
   ]
  },
  {
   "cell_type": "code",
   "execution_count": null,
   "metadata": {
    "id": "_F8qZOWTWk24"
   },
   "outputs": [],
   "source": [
    "import pandas as pd\n",
    "from github import Github\n",
    "import json"
   ]
  },
  {
   "cell_type": "markdown",
   "metadata": {
    "id": "rkpT6xl7Wk25"
   },
   "source": [
    "## Mine GitHub User Profiles"
   ]
  },
  {
   "cell_type": "code",
   "execution_count": null,
   "metadata": {
    "id": "k0W0C6R9Wk25"
   },
   "outputs": [],
   "source": [
    "prs = pd.read_pickle('../data/mined/all/cass_prs.pkl')\n",
    "prcs = pd.read_pickle('../data/mined/all/cass_pr_comments.pkl')\n",
    "iss = pd.read_pickle('../data/mined/all/cass_issues.pkl')\n",
    "iscs = pd.read_pickle('../data/mined/all/cass_issue_comments.pkl')"
   ]
  },
  {
   "cell_type": "code",
   "execution_count": null,
   "metadata": {
    "id": "eZI1dl12Wk25"
   },
   "outputs": [],
   "source": [
    "users = []\n",
    "for df in [prs, prcs, iss,iscs]:\n",
    "    users += df.user_login.tolist())"
   ]
  },
  {
   "cell_type": "code",
   "execution_count": null,
   "metadata": {
    "id": "sssH0wD7Wk25"
   },
   "outputs": [],
   "source": [
    "ulist = list(set(users))"
   ]
  },
  {
   "cell_type": "code",
   "execution_count": null,
   "metadata": {
    "id": "t71ya1ajWk25"
   },
   "outputs": [],
   "source": [
    "from github import Auth, Github\n",
    "GHTOKEN = 'XXX'\n",
    "auth = Auth.Token(GHTOKEN)\n",
    "g = Github(auth=auth)\n",
    "\n",
    "def get_gh_profile(login):\n",
    "    user = g.get_user(login)\n",
    "    t = dict()\n",
    "    t[\"login\"]=user.login\n",
    "    t[\"id\"]=user.id\n",
    "    t[\"node_id\"]=user.node_id\n",
    "    t[\"type\"]=user.type\n",
    "    t[\"site_admin\"]=user.site_admin\n",
    "    t[\"name\"]=user.name\n",
    "    t[\"company\"]=user.company\n",
    "    t[\"blog\"]=user.blog\n",
    "    t[\"location\"]=user.location\n",
    "    t[\"email\"]=user.email\n",
    "    t[\"hireable\"]=user.hireable\n",
    "    t[\"bio\"]=user.bio\n",
    "    t[\"twitter_username\"]=user.twitter_username\n",
    "    t[\"followers\"]=user.followers\n",
    "    t[\"following\"]=user.following\n",
    "    t[\"created_at\"]=user.created_at\n",
    "    t[\"updated_at\"]=user.updated_at\n",
    "    return t\n"
   ]
  },
  {
   "cell_type": "code",
   "execution_count": null,
   "metadata": {
    "id": "GMHpbFSPWk26"
   },
   "outputs": [],
   "source": [
    "udicts = []\n",
    "for u in ulist:\n",
    " udicts.append(get_gh_profile(u))"
   ]
  },
  {
   "cell_type": "code",
   "execution_count": null,
   "metadata": {
    "id": "eTIn9rRdWk26"
   },
   "outputs": [],
   "source": [
    "profiles = pd.DataFrame(udicts)"
   ]
  },
  {
   "cell_type": "code",
   "execution_count": null,
   "metadata": {
    "id": "OGw6ebY-Wk26",
    "outputId": "6a120e12-9fa2-4b32-c907-f1f3ab161f3b"
   },
   "outputs": [],
   "source": [
    "profiles.head()"
   ]
  },
  {
   "cell_type": "code",
   "execution_count": null,
   "metadata": {
    "id": "Pu5SkcqPWk26"
   },
   "outputs": [],
   "source": [
    "profiles.to_csv('../data/profiles.csv')"
   ]
  },
  {
   "cell_type": "code",
   "execution_count": null,
   "metadata": {
    "id": "HjZ4E0vMWk27"
   },
   "outputs": [],
   "source": [
    "profiles =pd.read_csv('../data/profiles.csv',index_col=0)"
   ]
  },
  {
   "cell_type": "markdown",
   "metadata": {
    "id": "FpnjToT_Wk27"
   },
   "source": [
    "## Gender"
   ]
  },
  {
   "cell_type": "code",
   "execution_count": null,
   "metadata": {
    "id": "eWMVMFiUWk27"
   },
   "outputs": [],
   "source": [
    "import sys\n",
    "import os\n",
    "\n",
    "# Determine the path to the subscript folder\n",
    "n_dir = os.path.abspath(os.path.join(os.getcwd(), '..', 'models', 'gender_guesser'))\n",
    "if n_dir not in sys.path:\n",
    "    sys.path.append(n_dir)"
   ]
  },
  {
   "cell_type": "code",
   "execution_count": null,
   "metadata": {
    "id": "-hna8QtUWk27"
   },
   "outputs": [],
   "source": [
    "import detector as gender\n",
    "d = gender.Detector(case_sensitive=False)"
   ]
  },
  {
   "cell_type": "code",
   "execution_count": null,
   "metadata": {
    "id": "1mKCTaUxWk27"
   },
   "outputs": [],
   "source": [
    "profiles['gender'] = profiles.name.apply(lambda n: '' if type(n)!= str else d.get_gender(n.split()[0]))\n"
   ]
  },
  {
   "cell_type": "code",
   "execution_count": null,
   "metadata": {
    "id": "6UPplWnFWk27",
    "outputId": "67c8eb14-9c47-440e-d761-bbde0e9e7dab"
   },
   "outputs": [
    {
     "data": {
      "text/plain": [
       "gender\n",
       "male             4941\n",
       "                 3709\n",
       "unknown          1947\n",
       "andy              453\n",
       "female            287\n",
       "mostly_male       286\n",
       "mostly_female      58\n",
       "Name: count, dtype: int64"
      ]
     },
     "execution_count": 13,
     "metadata": {},
     "output_type": "execute_result"
    }
   ],
   "source": [
    "profiles['gender'].value_counts()"
   ]
  },
  {
   "cell_type": "code",
   "execution_count": null,
   "metadata": {
    "id": "6pP5Zfq7Wk27"
   },
   "outputs": [],
   "source": [
    "profiles['gender']=profiles['gender'].apply(lambda n: n if type(n)!= str else n.split('_')[-1])"
   ]
  },
  {
   "cell_type": "code",
   "execution_count": null,
   "metadata": {
    "id": "cIjb4icIWk27",
    "outputId": "673b974d-0644-4b60-e4e2-1ced476c806f"
   },
   "outputs": [
    {
     "data": {
      "text/plain": [
       "gender\n",
       "male       5227\n",
       "           3709\n",
       "unknown    1947\n",
       "andy        453\n",
       "female      345\n",
       "Name: count, dtype: int64"
      ]
     },
     "execution_count": 21,
     "metadata": {},
     "output_type": "execute_result"
    }
   ],
   "source": [
    "profiles['gender'].value_counts()"
   ]
  },
  {
   "cell_type": "code",
   "execution_count": null,
   "metadata": {
    "id": "jyrnY9NRWk27"
   },
   "outputs": [],
   "source": [
    "profiles.loc[profiles['gender'] =='', 'gender']='unknown'"
   ]
  },
  {
   "cell_type": "code",
   "execution_count": null,
   "metadata": {
    "id": "aFca9TbdWk27",
    "outputId": "ea57e78c-f18e-4056-a0b8-3b03f084f0f4"
   },
   "outputs": [
    {
     "data": {
      "text/plain": [
       "gender\n",
       "unknown    5656\n",
       "male       5227\n",
       "andy        453\n",
       "female      345\n",
       "Name: count, dtype: int64"
      ]
     },
     "execution_count": 23,
     "metadata": {},
     "output_type": "execute_result"
    }
   ],
   "source": [
    "profiles['gender'].value_counts()"
   ]
  },
  {
   "cell_type": "markdown",
   "metadata": {
    "id": "24H0lQ9BWk27"
   },
   "source": [
    "## Location"
   ]
  },
  {
   "cell_type": "code",
   "execution_count": null,
   "metadata": {
    "id": "gPOAn0zZWk28"
   },
   "outputs": [],
   "source": [
    "locdf = pd.DataFrame(profiles['location'].unique().tolist()[1:],columns=['ul'])\n"
   ]
  },
  {
   "cell_type": "code",
   "execution_count": null,
   "metadata": {
    "id": "xOtnX9EzWk28",
    "outputId": "7e34fcc5-c91d-46ec-f30f-a318d4e731dd"
   },
   "outputs": [
    {
     "data": {
      "text/html": [
       "<div>\n",
       "<style scoped>\n",
       "    .dataframe tbody tr th:only-of-type {\n",
       "        vertical-align: middle;\n",
       "    }\n",
       "\n",
       "    .dataframe tbody tr th {\n",
       "        vertical-align: top;\n",
       "    }\n",
       "\n",
       "    .dataframe thead th {\n",
       "        text-align: right;\n",
       "    }\n",
       "</style>\n",
       "<table border=\"1\" class=\"dataframe\">\n",
       "  <thead>\n",
       "    <tr style=\"text-align: right;\">\n",
       "      <th></th>\n",
       "      <th>ul</th>\n",
       "    </tr>\n",
       "  </thead>\n",
       "  <tbody>\n",
       "    <tr>\n",
       "      <th>0</th>\n",
       "      <td>San Francisco, CA, USA</td>\n",
       "    </tr>\n",
       "    <tr>\n",
       "      <th>1</th>\n",
       "      <td>Champaign</td>\n",
       "    </tr>\n",
       "    <tr>\n",
       "      <th>2</th>\n",
       "      <td>Aitken Basin, Luna</td>\n",
       "    </tr>\n",
       "    <tr>\n",
       "      <th>3</th>\n",
       "      <td>Dublin, Ireland</td>\n",
       "    </tr>\n",
       "    <tr>\n",
       "      <th>4</th>\n",
       "      <td>New York, NY</td>\n",
       "    </tr>\n",
       "    <tr>\n",
       "      <th>...</th>\n",
       "      <td>...</td>\n",
       "    </tr>\n",
       "    <tr>\n",
       "      <th>1865</th>\n",
       "      <td>Maynooth, Ireland</td>\n",
       "    </tr>\n",
       "    <tr>\n",
       "      <th>1866</th>\n",
       "      <td>Lund, Sweden</td>\n",
       "    </tr>\n",
       "    <tr>\n",
       "      <th>1867</th>\n",
       "      <td>Taiwan, Taipei</td>\n",
       "    </tr>\n",
       "    <tr>\n",
       "      <th>1868</th>\n",
       "      <td>Canberra, ACT, Australia</td>\n",
       "    </tr>\n",
       "    <tr>\n",
       "      <th>1869</th>\n",
       "      <td>Hebei, Shijiazhuang</td>\n",
       "    </tr>\n",
       "  </tbody>\n",
       "</table>\n",
       "<p>1870 rows × 1 columns</p>\n",
       "</div>"
      ],
      "text/plain": [
       "                            ul\n",
       "0       San Francisco, CA, USA\n",
       "1                    Champaign\n",
       "2           Aitken Basin, Luna\n",
       "3              Dublin, Ireland\n",
       "4                 New York, NY\n",
       "...                        ...\n",
       "1865         Maynooth, Ireland\n",
       "1866              Lund, Sweden\n",
       "1867            Taiwan, Taipei\n",
       "1868  Canberra, ACT, Australia\n",
       "1869       Hebei, Shijiazhuang\n",
       "\n",
       "[1870 rows x 1 columns]"
      ]
     },
     "execution_count": 25,
     "metadata": {},
     "output_type": "execute_result"
    }
   ],
   "source": [
    "locdf"
   ]
  },
  {
   "cell_type": "code",
   "execution_count": null,
   "metadata": {
    "id": "7NirQcqhWk28"
   },
   "outputs": [],
   "source": [
    "from geopy.geocoders import Nominatim\n",
    "geolocator = Nominatim(user_agent=\"Safari\")\n",
    "def get_loc(loc):\n",
    "    location = geolocator.geocode(loc)\n",
    "    return location.address"
   ]
  },
  {
   "cell_type": "code",
   "execution_count": null,
   "metadata": {
    "id": "DJJpvWEGWk28",
    "outputId": "d077bf84-5a00-4de4-e6a1-26ad73b0a945"
   },
   "outputs": [
    {
     "data": {
      "text/plain": [
       "'United States'"
      ]
     },
     "execution_count": 86,
     "metadata": {},
     "output_type": "execute_result"
    }
   ],
   "source": [
    "get_loc(\"175 5th Avenue NYC\").split(',')[-1].strip()"
   ]
  },
  {
   "cell_type": "code",
   "execution_count": null,
   "metadata": {
    "id": "Q7-kekPIWk28"
   },
   "outputs": [],
   "source": [
    "locdf['address']=locdf['ul'].apply(get_loc)"
   ]
  },
  {
   "cell_type": "code",
   "execution_count": null,
   "metadata": {
    "id": "zegC3su2Wk28",
    "outputId": "00d479c8-f0e0-41cc-d8bb-94465b83c27d"
   },
   "outputs": [
    {
     "data": {
      "text/plain": [
       "0                San Francisco, California, United States\n",
       "1       Champaign, Champaign County, Illinois, United ...\n",
       "2                                                     NaN\n",
       "3                Dublin, County Dublin, Leinster, Ireland\n",
       "4                                 New York, United States\n",
       "                              ...                        \n",
       "1865          Maynooth, County Kildare, Leinster, Ireland\n",
       "1866        Lund, Lund Municipality, Skåne County, Sweden\n",
       "1867                                       Taipei, Taiwan\n",
       "1868    Canberra, District of Canberra Central, Austra...\n",
       "1869                           Shijiazhuang, Hebei, China\n",
       "Name: address, Length: 1870, dtype: object"
      ]
     },
     "execution_count": 79,
     "metadata": {},
     "output_type": "execute_result"
    }
   ],
   "source": [
    "locdf.address"
   ]
  },
  {
   "cell_type": "code",
   "execution_count": null,
   "metadata": {
    "id": "xOPnw9_OWk28",
    "outputId": "adc62cff-eed6-4d6d-9a7a-93ad1e9ad53e"
   },
   "outputs": [
    {
     "data": {
      "text/plain": [
       "0       United States\n",
       "1       United States\n",
       "2                    \n",
       "3             Ireland\n",
       "4       United States\n",
       "            ...      \n",
       "1865          Ireland\n",
       "1866           Sweden\n",
       "1867           Taiwan\n",
       "1868        Australia\n",
       "1869            China\n",
       "Name: address, Length: 1870, dtype: object"
      ]
     },
     "execution_count": 80,
     "metadata": {},
     "output_type": "execute_result"
    }
   ],
   "source": [
    "\n",
    "locdf['country'] = locdf.address.apply(lambda c: c.split(',')[-1].strip() if type(c) ==str else '' )\n",
    "locdf['country']"
   ]
  },
  {
   "cell_type": "code",
   "execution_count": null,
   "metadata": {
    "id": "IOrTGS91Wk28",
    "outputId": "bb437267-52b5-4aef-b447-11fc81b9ad5a"
   },
   "outputs": [
    {
     "data": {
      "text/html": [
       "<div>\n",
       "<style scoped>\n",
       "    .dataframe tbody tr th:only-of-type {\n",
       "        vertical-align: middle;\n",
       "    }\n",
       "\n",
       "    .dataframe tbody tr th {\n",
       "        vertical-align: top;\n",
       "    }\n",
       "\n",
       "    .dataframe thead th {\n",
       "        text-align: right;\n",
       "    }\n",
       "</style>\n",
       "<table border=\"1\" class=\"dataframe\">\n",
       "  <thead>\n",
       "    <tr style=\"text-align: right;\">\n",
       "      <th></th>\n",
       "      <th>ul</th>\n",
       "      <th>address</th>\n",
       "      <th>country</th>\n",
       "    </tr>\n",
       "  </thead>\n",
       "  <tbody>\n",
       "    <tr>\n",
       "      <th>0</th>\n",
       "      <td>San Francisco, CA, USA</td>\n",
       "      <td>San Francisco, California, United States</td>\n",
       "      <td>United States</td>\n",
       "    </tr>\n",
       "    <tr>\n",
       "      <th>1</th>\n",
       "      <td>Champaign</td>\n",
       "      <td>Champaign, Champaign County, Illinois, United ...</td>\n",
       "      <td>United States</td>\n",
       "    </tr>\n",
       "    <tr>\n",
       "      <th>2</th>\n",
       "      <td>Aitken Basin, Luna</td>\n",
       "      <td>NaN</td>\n",
       "      <td>NaN</td>\n",
       "    </tr>\n",
       "    <tr>\n",
       "      <th>3</th>\n",
       "      <td>Dublin, Ireland</td>\n",
       "      <td>Dublin, County Dublin, Leinster, Ireland</td>\n",
       "      <td>Ireland</td>\n",
       "    </tr>\n",
       "    <tr>\n",
       "      <th>4</th>\n",
       "      <td>New York, NY</td>\n",
       "      <td>New York, United States</td>\n",
       "      <td>United States</td>\n",
       "    </tr>\n",
       "    <tr>\n",
       "      <th>...</th>\n",
       "      <td>...</td>\n",
       "      <td>...</td>\n",
       "      <td>...</td>\n",
       "    </tr>\n",
       "    <tr>\n",
       "      <th>1865</th>\n",
       "      <td>Maynooth, Ireland</td>\n",
       "      <td>Maynooth, County Kildare, Leinster, Ireland</td>\n",
       "      <td>Ireland</td>\n",
       "    </tr>\n",
       "    <tr>\n",
       "      <th>1866</th>\n",
       "      <td>Lund, Sweden</td>\n",
       "      <td>Lund, Lund Municipality, Skåne County, Sweden</td>\n",
       "      <td>Sweden</td>\n",
       "    </tr>\n",
       "    <tr>\n",
       "      <th>1867</th>\n",
       "      <td>Taiwan, Taipei</td>\n",
       "      <td>Taipei, Taiwan</td>\n",
       "      <td>Taiwan</td>\n",
       "    </tr>\n",
       "    <tr>\n",
       "      <th>1868</th>\n",
       "      <td>Canberra, ACT, Australia</td>\n",
       "      <td>Canberra, District of Canberra Central, Austra...</td>\n",
       "      <td>Australia</td>\n",
       "    </tr>\n",
       "    <tr>\n",
       "      <th>1869</th>\n",
       "      <td>Hebei, Shijiazhuang</td>\n",
       "      <td>Shijiazhuang, Hebei, China</td>\n",
       "      <td>China</td>\n",
       "    </tr>\n",
       "  </tbody>\n",
       "</table>\n",
       "<p>1870 rows × 3 columns</p>\n",
       "</div>"
      ],
      "text/plain": [
       "                            ul  \\\n",
       "0       San Francisco, CA, USA   \n",
       "1                    Champaign   \n",
       "2           Aitken Basin, Luna   \n",
       "3              Dublin, Ireland   \n",
       "4                 New York, NY   \n",
       "...                        ...   \n",
       "1865         Maynooth, Ireland   \n",
       "1866              Lund, Sweden   \n",
       "1867            Taiwan, Taipei   \n",
       "1868  Canberra, ACT, Australia   \n",
       "1869       Hebei, Shijiazhuang   \n",
       "\n",
       "                                                address        country  \n",
       "0              San Francisco, California, United States  United States  \n",
       "1     Champaign, Champaign County, Illinois, United ...  United States  \n",
       "2                                                   NaN            NaN  \n",
       "3              Dublin, County Dublin, Leinster, Ireland        Ireland  \n",
       "4                               New York, United States  United States  \n",
       "...                                                 ...            ...  \n",
       "1865        Maynooth, County Kildare, Leinster, Ireland        Ireland  \n",
       "1866      Lund, Lund Municipality, Skåne County, Sweden         Sweden  \n",
       "1867                                     Taipei, Taiwan         Taiwan  \n",
       "1868  Canberra, District of Canberra Central, Austra...      Australia  \n",
       "1869                         Shijiazhuang, Hebei, China          China  \n",
       "\n",
       "[1870 rows x 3 columns]"
      ]
     },
     "execution_count": 28,
     "metadata": {},
     "output_type": "execute_result"
    }
   ],
   "source": [
    "locdf"
   ]
  },
  {
   "cell_type": "markdown",
   "metadata": {
    "id": "LYnSMbfAWk28"
   },
   "source": [
    "### Correction"
   ]
  },
  {
   "cell_type": "code",
   "execution_count": null,
   "metadata": {
    "id": "pSkKedROWk28",
    "outputId": "7f3fbaea-223f-4ae1-846f-0d42c3e670a1"
   },
   "outputs": [
    {
     "data": {
      "text/html": [
       "<div>\n",
       "<style scoped>\n",
       "    .dataframe tbody tr th:only-of-type {\n",
       "        vertical-align: middle;\n",
       "    }\n",
       "\n",
       "    .dataframe tbody tr th {\n",
       "        vertical-align: top;\n",
       "    }\n",
       "\n",
       "    .dataframe thead th {\n",
       "        text-align: right;\n",
       "    }\n",
       "</style>\n",
       "<table border=\"1\" class=\"dataframe\">\n",
       "  <thead>\n",
       "    <tr style=\"text-align: right;\">\n",
       "      <th></th>\n",
       "      <th>ul</th>\n",
       "      <th>address</th>\n",
       "      <th>country</th>\n",
       "    </tr>\n",
       "  </thead>\n",
       "  <tbody>\n",
       "    <tr>\n",
       "      <th>260</th>\n",
       "      <td>UK</td>\n",
       "      <td>Ouaka, Central African Republic</td>\n",
       "      <td>Central African Republic</td>\n",
       "    </tr>\n",
       "  </tbody>\n",
       "</table>\n",
       "</div>"
      ],
      "text/plain": [
       "     ul                          address                   country\n",
       "260  UK  Ouaka, Central African Republic  Central African Republic"
      ]
     },
     "execution_count": 29,
     "metadata": {},
     "output_type": "execute_result"
    }
   ],
   "source": [
    "locdf[locdf.ul=='UK']#-> Central African Republic"
   ]
  },
  {
   "cell_type": "code",
   "execution_count": null,
   "metadata": {
    "id": "VpFEBZ14Wk28"
   },
   "outputs": [],
   "source": [
    "locdf.loc[locdf.ul=='UK','country']='United Kingdom'"
   ]
  },
  {
   "cell_type": "code",
   "execution_count": null,
   "metadata": {
    "id": "xS9mf7cDWk28",
    "outputId": "c77124d5-21eb-49a8-a936-af37328c69ad"
   },
   "outputs": [
    {
     "data": {
      "text/plain": [
       "260    United Kingdom\n",
       "Name: country, dtype: object"
      ]
     },
     "execution_count": 31,
     "metadata": {},
     "output_type": "execute_result"
    }
   ],
   "source": [
    "locdf[locdf.ul=='UK'].country"
   ]
  },
  {
   "cell_type": "markdown",
   "metadata": {
    "id": "ek-ta8FmWk29"
   },
   "source": [
    "### Profile ⇠ Gender & Location"
   ]
  },
  {
   "cell_type": "code",
   "execution_count": null,
   "metadata": {
    "id": "hdzo9e2ZWk3F"
   },
   "outputs": [],
   "source": [
    "profiles = pd.merge(profiles, locdf[['ul','country']], left_on='location', right_on='ul', how='left',  suffixes=('_prof', '_geoloc'))"
   ]
  },
  {
   "cell_type": "code",
   "execution_count": null,
   "metadata": {
    "id": "rN2LpaJRWk3F",
    "outputId": "aa9a82a3-ff91-4aba-cfc0-370a10be6927"
   },
   "outputs": [],
   "source": [
    "profiles.head()"
   ]
  },
  {
   "cell_type": "code",
   "execution_count": null,
   "metadata": {
    "id": "tez_BOFbWk3F",
    "outputId": "e42b1332-a9e9-482a-c7ba-1a983ac7f24d"
   },
   "outputs": [
    {
     "data": {
      "text/plain": [
       "np.int64(7035)"
      ]
     },
     "execution_count": 36,
     "metadata": {},
     "output_type": "execute_result"
    }
   ],
   "source": [
    "profiles.country.isna().sum()"
   ]
  },
  {
   "cell_type": "code",
   "execution_count": null,
   "metadata": {
    "id": "ry3vEqQPWk3F",
    "outputId": "54c31a07-7b6b-4d2f-d5ad-81c08438bf11"
   },
   "outputs": [
    {
     "data": {
      "text/plain": [
       "gender\n",
       "unknown    0.484205\n",
       "male       0.447479\n",
       "andy       0.038781\n",
       "female     0.029535\n",
       "Name: proportion, dtype: float64"
      ]
     },
     "execution_count": 35,
     "metadata": {},
     "output_type": "execute_result"
    }
   ],
   "source": [
    "profiles.gender.value_counts(1)"
   ]
  },
  {
   "cell_type": "code",
   "execution_count": null,
   "metadata": {
    "id": "SPhk2yDTWk3K",
    "outputId": "7f83f838-b0b6-4f05-f2b1-508cb0e9e093"
   },
   "outputs": [
    {
     "data": {
      "text/plain": [
       "country\n",
       "United States              1603\n",
       "Germany                     480\n",
       "China                       418\n",
       "United Kingdom              324\n",
       "France                      209\n",
       "                           ... \n",
       "Palestinian Territories       1\n",
       "Nepal                         1\n",
       "Panama                        1\n",
       "UTC−08:00 standard time       1\n",
       "Kazakhstan                    1\n",
       "Name: count, Length: 90, dtype: int64"
      ]
     },
     "execution_count": 37,
     "metadata": {},
     "output_type": "execute_result"
    }
   ],
   "source": [
    "profiles.country.value_counts()"
   ]
  },
  {
   "cell_type": "code",
   "execution_count": null,
   "metadata": {
    "id": "PssXcrobWk3K"
   },
   "outputs": [],
   "source": [
    "\n",
    "profiles.to_csv('../data/profiles_loc.csv', index=None)"
   ]
  },
  {
   "cell_type": "markdown",
   "metadata": {
    "id": "otVWEQ6iWk3K"
   },
   "source": [
    "Thank you!"
   ]
  }
 ],
 "metadata": {
  "colab": {
   "provenance": []
  },
  "kernelspec": {
   "display_name": "Python 3",
   "language": "python",
   "name": "python3"
  },
  "language_info": {
   "codemirror_mode": {
    "name": "ipython",
    "version": 3
   },
   "file_extension": ".py",
   "mimetype": "text/x-python",
   "name": "python",
   "nbconvert_exporter": "python",
   "pygments_lexer": "ipython3",
   "version": "3.12.4"
  }
 },
 "nbformat": 4,
 "nbformat_minor": 0
}
