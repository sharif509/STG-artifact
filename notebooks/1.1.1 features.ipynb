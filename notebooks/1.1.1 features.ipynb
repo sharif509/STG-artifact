{
 "cells": [
  {
   "cell_type": "markdown",
   "metadata": {
    "id": "9xeL0x2GWuXr"
   },
   "source": [
    "# Features from GitHub mined data\n",
    "<!-- Sharif Ahmed -->"
   ]
  },
  {
   "cell_type": "markdown",
   "metadata": {
    "id": "0VQpOVXAWuXs"
   },
   "source": [
    "Data Setup"
   ]
  },
  {
   "cell_type": "code",
   "execution_count": null,
   "metadata": {
    "id": "Wf21Y0f_WuXt"
   },
   "outputs": [],
   "source": [
    "import pandas as pd\n",
    "import numpy as np\n",
    "import matplotlib.pyplot as plt\n",
    "import seaborn as sns\n",
    "import re\n"
   ]
  },
  {
   "cell_type": "code",
   "execution_count": null,
   "metadata": {
    "id": "5G3hQK3lWuXu"
   },
   "outputs": [],
   "source": [
    "prs = pd.read_pickle('../data/mined/all/cass_prs.pkl')\n",
    "prcs = pd.read_pickle('../data/mined/all/cass_pr_comments.pkl')\n",
    "iss = pd.read_pickle('../data/mined/all/cass_issues.pkl')\n",
    "iscs = pd.read_pickle('../data/mined/all/cass_issue_comments.pkl')\n",
    "commits = pd.read_csv('../data/mined/all/commits.csv')"
   ]
  },
  {
   "cell_type": "markdown",
   "metadata": {
    "id": "08GkSYuNWuXu"
   },
   "source": [
    "#### Data Tranformation"
   ]
  },
  {
   "cell_type": "code",
   "execution_count": null,
   "metadata": {
    "id": "sxBk8LTwWuXv"
   },
   "outputs": [],
   "source": [
    "for c in ['updated_at','created_at']:\n",
    "    iss[c]=pd.to_datetime(iss[c]).dt.tz_convert('UTC')\n",
    "    prs[c]=pd.to_datetime(prs[c]).dt.tz_convert('UTC')\n",
    "    iscs[c]=pd.to_datetime(iscs[c]).dt.tz_convert('UTC')\n",
    "    prcs[c]=pd.to_datetime(prcs[c]).dt.tz_convert('UTC')\n",
    "for c in ['closed_at']:\n",
    "    iss[c]=pd.to_datetime(iss[c]).dt.tz_convert('UTC')\n",
    "    prs[c]=pd.to_datetime(prs[c]).dt.tz_convert('UTC')\n",
    "\n",
    "c= 'merged_at'\n",
    "prs[c]=pd.to_datetime(prs[c]).dt.tz_convert('UTC')"
   ]
  },
  {
   "cell_type": "code",
   "execution_count": null,
   "metadata": {
    "id": "gzt90XYUWuXv"
   },
   "outputs": [],
   "source": [
    "def expandUserInfo(df):\n",
    " df['user_type']= df.user.apply(lambda u: u['type'])\n",
    " df['user_login']= df.user.apply(lambda u: u['login'])\n",
    " df['user_id']= df.user.apply(lambda u: u['id'])\n",
    " return df\n",
    "iss = expandUserInfo(iss)\n",
    "iscs = expandUserInfo(iscs)\n",
    "prs = expandUserInfo(prs)\n",
    "prcs = expandUserInfo(prcs)"
   ]
  },
  {
   "cell_type": "code",
   "execution_count": null,
   "metadata": {
    "id": "PhAvyjB0WuXv"
   },
   "outputs": [],
   "source": [
    "def expandReactions(df):\n",
    "    rc = ['total_count', '+1', '-1', 'laugh', 'hooray', 'confused', 'heart', 'rocket', 'eyes']\n",
    "    df = pd.concat([df,df.reactions.apply(pd.Series)[rc].add_prefix('react_')], axis=1)\n",
    "    df.drop(columns=['reactions'],inplace=True)\n",
    "\n",
    "    return df\n",
    "iss = expandReactions(iss)\n",
    "iscs = expandReactions(iscs)\n",
    "# NO reaction # prs = expandReactions(prs)\n",
    "prcs = expandReactions(prcs)"
   ]
  },
  {
   "cell_type": "markdown",
   "metadata": {
    "id": "CeArGa_lWuXv"
   },
   "source": [
    "#### Labels"
   ]
  },
  {
   "cell_type": "code",
   "execution_count": null,
   "metadata": {
    "id": "7heM0TAAWuXw"
   },
   "outputs": [],
   "source": [
    "iss['label_counts']=iss.labels.apply(len)\n",
    "prs['label_counts']=prs.labels.apply(len)"
   ]
  },
  {
   "cell_type": "code",
   "execution_count": null,
   "metadata": {
    "id": "YgBiwRMpWuXw"
   },
   "outputs": [],
   "source": [
    "iss['label_names']=iss.labels.apply(lambda ls: [l['name'] for l in ls])\n",
    "prs['label_names']=prs.labels.apply(lambda ls: [l['name'] for l in ls])"
   ]
  },
  {
   "cell_type": "code",
   "execution_count": null,
   "metadata": {
    "id": "a0ZfLgrfWuXw"
   },
   "outputs": [],
   "source": [
    "prs.drop(columns=['labels'],inplace=True)\n",
    "iss.drop(columns=['labels'],inplace=True)\n"
   ]
  },
  {
   "cell_type": "markdown",
   "metadata": {
    "id": "-hAs5v1eWuXw"
   },
   "source": [
    "## Non Coding"
   ]
  },
  {
   "cell_type": "code",
   "execution_count": null,
   "metadata": {
    "id": "6Lbw8XMXWuXw"
   },
   "outputs": [],
   "source": [
    "import re\n",
    "\n",
    "def is_non_coding_issue(title, description, labels):\n",
    "    non_coding_keywords = [\n",
    "        \"documentation\", \"guide\", \"manual\", \"user interface\", \"UX\", \"design\", \"layout\",\n",
    "        \"styling\", \"accessibility\", \"translation\", \"legal\", \"licensing\", \"planning\",\n",
    "        \"roadmap\", \"meeting\", \"discussion\", \"question\"\n",
    "    ]\n",
    "\n",
    "    combined_text = f\"{title} {description} {' '.join(labels)}\".lower()\n",
    "\n",
    "    for keyword in non_coding_keywords:\n",
    "        if re.search(r'\\b' + re.escape(keyword) + r'\\b', combined_text):\n",
    "            return True\n",
    "    return False"
   ]
  },
  {
   "cell_type": "code",
   "execution_count": null,
   "metadata": {
    "id": "34nuCVu5WuXw"
   },
   "outputs": [],
   "source": [
    "iss['is_noncoding']=iss.apply(lambda r: is_non_coding_issue(r['title'], r['body'], r['label_names']), axis =1)"
   ]
  },
  {
   "cell_type": "code",
   "execution_count": null,
   "metadata": {
    "id": "4ePoMuVmWuXw",
    "outputId": "58435825-7186-4986-e8d6-30cfdbe8a5bc"
   },
   "outputs": [],
   "source": [
    "iss[iss['is_noncoding']][['title','label_names','project','milestone','author_association', 'active_lock_reason',\n",
    "       'draft', 'pull_request', 'body']]"
   ]
  },
  {
   "cell_type": "markdown",
   "metadata": {
    "id": "P_ATkK7IWuXx"
   },
   "source": []
  },
  {
   "cell_type": "markdown",
   "metadata": {
    "id": "1SHzsVPEWuXx"
   },
   "source": [
    "## is BugFixing?"
   ]
  },
  {
   "cell_type": "code",
   "execution_count": null,
   "metadata": {
    "id": "XM_cA9H5WuXx"
   },
   "outputs": [],
   "source": [
    "prs['is_bug'] = prs.label_names.apply(lambda ls : \"bug\" in ' '.join(ls).lower())"
   ]
  },
  {
   "cell_type": "code",
   "execution_count": null,
   "metadata": {
    "id": "-tTZAkcyWuXx"
   },
   "outputs": [],
   "source": [
    "iss['is_bug'] = iss.label_names.apply(lambda ls : \"bug\" in ' '.join(ls).lower())"
   ]
  },
  {
   "cell_type": "code",
   "execution_count": null,
   "metadata": {
    "id": "0IkkAi6bWuXx",
    "outputId": "dd2be36d-a0dd-4699-f529-4ba41243b9bb"
   },
   "outputs": [],
   "source": [
    "prs.is_bug.value_counts(1),iss.is_bug.value_counts(1)"
   ]
  },
  {
   "cell_type": "markdown",
   "metadata": {
    "id": "z_-ABA9aWuXx"
   },
   "source": []
  },
  {
   "cell_type": "code",
   "execution_count": null,
   "metadata": {
    "id": "nz4IErp_WuXy"
   },
   "outputs": [],
   "source": [
    "iss['tmp-lbl'] = iss.label_names.apply(lambda ls:'; '.join(ls))"
   ]
  },
  {
   "cell_type": "code",
   "execution_count": null,
   "metadata": {
    "id": "S58bTFLsWuXy"
   },
   "outputs": [],
   "source": [
    "prs['tmp-lbl'] = prs.label_names.apply(lambda ls:'; '.join(ls))"
   ]
  },
  {
   "cell_type": "markdown",
   "metadata": {
    "id": "EZ_FAMckWuXy"
   },
   "source": [
    "## Newcomer Support"
   ]
  },
  {
   "cell_type": "code",
   "execution_count": null,
   "metadata": {
    "id": "96TriO4kWuXy"
   },
   "outputs": [],
   "source": [
    "iss['is_newcomer_suport']=(iss['tmp-lbl'].str.contains('good', na=False, case=False) | iss['tmp-lbl'].str.contains('help', na=False, case=False))\n"
   ]
  },
  {
   "cell_type": "code",
   "execution_count": null,
   "metadata": {
    "id": "jMEQlwLVWuXy",
    "outputId": "e16d7402-bcb3-49a8-8c37-d58119dd496a"
   },
   "outputs": [],
   "source": [
    "iss[iss['is_newcomer_suport']][['title','label_names','project']]"
   ]
  },
  {
   "cell_type": "markdown",
   "metadata": {
    "id": "woaV8lnRWuXy"
   },
   "source": [
    "## Duplicate/ Deduplicaiton"
   ]
  },
  {
   "cell_type": "markdown",
   "metadata": {
    "id": "mYn0ILv-WuXy"
   },
   "source": [
    "- label\n",
    "    - dedup -> duplicate,\n",
    "    - newcomer -> good, help wanted\n",
    "\n"
   ]
  },
  {
   "cell_type": "code",
   "execution_count": null,
   "metadata": {
    "id": "voA0YO7RWuXy",
    "outputId": "43d91582-5df0-4c0d-fe11-a26e948f9398"
   },
   "outputs": [],
   "source": [
    "iss['is_dup_labeled']=iss['tmp-lbl'].str.contains(\"duplicate\", na=False, case=False)\n",
    "iss['is_release']=iss['tmp-lbl'].str.contains(\"release\", na=False, case=False)\n",
    "\n",
    "iss['is_dup_labeled'].value_counts(), iss['is_release'].value_counts()"
   ]
  },
  {
   "cell_type": "markdown",
   "metadata": {
    "id": "Bo5kisioWuXy"
   },
   "source": [
    "Now ISCS, instead of ISS"
   ]
  },
  {
   "cell_type": "code",
   "execution_count": null,
   "metadata": {
    "id": "gtUA9Z_GWuXy",
    "outputId": "3a1b667b-dd18-4e78-c849-af224d5d9767"
   },
   "outputs": [],
   "source": [
    "iscs['is_dup_discussed']=iscs.body.str.contains(\"duplicate of\")\n",
    "iscs['is_dup_discussed'].value_counts()"
   ]
  },
  {
   "cell_type": "markdown",
   "metadata": {
    "id": "aN0otC2RWuXy"
   },
   "source": [
    "let's see if PRCS also has such numbers of dup discussion-"
   ]
  },
  {
   "cell_type": "code",
   "execution_count": null,
   "metadata": {
    "id": "X3-kcLrZWuXz",
    "outputId": "14136a15-bd48-4998-a697-b8c6907b31b0"
   },
   "outputs": [],
   "source": [
    "prs['tmp-lbl'].str.contains(\"duplicate\", na=False, case=False).sum()"
   ]
  },
  {
   "cell_type": "code",
   "execution_count": null,
   "metadata": {
    "id": "2-NQmCF8WuXz",
    "outputId": "2e68240d-762d-4af9-cf4e-fba089638b49"
   },
   "outputs": [],
   "source": [
    "prcs[prcs.body.str.contains(\"duplicate of\")][['body','project']]#.tolist()"
   ]
  },
  {
   "cell_type": "markdown",
   "metadata": {
    "id": "sU6qQkzDWuXz"
   },
   "source": [
    "## Comment fts"
   ]
  },
  {
   "cell_type": "code",
   "execution_count": null,
   "metadata": {
    "id": "4ebUrrIMWuXz"
   },
   "outputs": [],
   "source": [
    "import textstat\n",
    "def readability_score(s):\n",
    "    if type(s) != str:\n",
    "        return None\n",
    "    return textstat.flesch_reading_ease(s)\n"
   ]
  },
  {
   "cell_type": "code",
   "execution_count": null,
   "metadata": {
    "id": "ONkiYxCFWuXz"
   },
   "outputs": [],
   "source": [
    "iss['readability']=iss.body.apply(readability_score)\n",
    "iscs['readability']=iscs.body.apply(readability_score)\n",
    "prs['readability']=prs.body.apply(readability_score)\n",
    "prcs['readability']=prcs.body.apply(readability_score)\n",
    "\n",
    "iss['title_readability']=iss.title.apply(readability_score)\n",
    "prs['title_readability']=prs.title.apply(readability_score)"
   ]
  },
  {
   "cell_type": "code",
   "execution_count": null,
   "metadata": {
    "id": "2W3nNtRaWuXz",
    "outputId": "e3394d75-fb28-4f91-b393-ddcef08cac0f"
   },
   "outputs": [],
   "source": [
    "iscs['readability'].value_counts(1)"
   ]
  },
  {
   "cell_type": "code",
   "execution_count": null,
   "metadata": {
    "id": "9qTXQkabWuXz"
   },
   "outputs": [],
   "source": [
    "import sys\n",
    "from binpickle import load\n",
    "\n",
    "sys.path.append('../models')\n",
    "\n",
    "from models.SentiCR import  SentiCR\n",
    "senti_cr=SentiCR.SentiCR()\n",
    "\n",
    "from models.ToxiCR import ToxiCR\n",
    "\n",
    "sys.path.append('../models/holdon')\n",
    "um = load('../models/holdon/CRCusefulness.model')\n",
    "\n",
    "def crc_fts(data,col='comment'):\n",
    "\n",
    "    data['cr_senti'] = data[col].apply(lambda s: senti_cr.get_sentiment_polarity(s)[0])\n",
    "\n",
    "    toxicClassifier=ToxiCR.ToxiCR(ALGO=\"RF\", count_profanity=True, remove_keywords=True,split_identifier=True,\n",
    "                    embedding=\"tfidf\", load_pretrained=True)\n",
    "\n",
    "    toxicClassifier.init_predictor()\n",
    "    data['is_toxic']=toxicClassifier.get_toxicity_probability(data[col].tolist()).ravel()\n",
    "\n",
    "    data['is_useful']=um.predict(data[col].tolist()).ravel()\n",
    "\n",
    "    return data"
   ]
  },
  {
   "cell_type": "code",
   "execution_count": null,
   "metadata": {
    "id": "AUpec_ilWuXz"
   },
   "outputs": [],
   "source": [
    "prcs=crc_fts(prcs,'body')\n",
    "iscs=crc_fts(iscs,'body')"
   ]
  },
  {
   "cell_type": "markdown",
   "metadata": {
    "id": "69WuoiJkWuXz"
   },
   "source": [
    "### comment quality"
   ]
  },
  {
   "cell_type": "code",
   "execution_count": null,
   "metadata": {
    "id": "wWUsSOYyWuX0",
    "outputId": "fe52b70a-e698-4161-c12e-f39c6263f8ff"
   },
   "outputs": [],
   "source": [
    "iscs[['project','user_type','author_association','readability', 'cr_senti', 'is_toxic', 'is_useful']].groupby(['project','user_type','author_association']).mean().sort_values(by=['project','is_useful'],ascending=False)"
   ]
  },
  {
   "cell_type": "code",
   "execution_count": null,
   "metadata": {
    "id": "3_3yn_WaWuX0",
    "outputId": "ac2a77fd-5e65-4414-c280-e1e46c331d5a"
   },
   "outputs": [],
   "source": [
    "prcs[['project','user_type','author_association','readability', 'cr_senti', 'is_toxic', 'is_useful']].groupby(['project','user_type','author_association']).mean().sort_values(by=['project','is_useful'],ascending=False)"
   ]
  },
  {
   "cell_type": "code",
   "execution_count": null,
   "metadata": {
    "id": "13YhSJoPWuX0",
    "outputId": "d47a150c-62f0-41cd-c68c-7243244e44e4"
   },
   "outputs": [],
   "source": [
    "prcs[['pull_request_review_id', 'id', 'start_line', 'original_start_line',\n",
    "       'line', 'original_line', 'original_position', 'position',\n",
    "       'in_reply_to_id', 'user_id', 'react_total_count', 'react_+1',\n",
    "       'react_-1', 'react_laugh', 'react_hooray', 'react_confused',\n",
    "       'react_heart', 'react_rocket', 'react_eyes', 'readability', 'cr_senti',\n",
    "       'is_toxic', 'is_useful']].corr()['is_toxic'].sort_values()"
   ]
  },
  {
   "cell_type": "markdown",
   "metadata": {
    "id": "OJdvcjuoWuX0"
   },
   "source": [
    "# BOT users/ content"
   ]
  },
  {
   "cell_type": "code",
   "execution_count": null,
   "metadata": {
    "id": "ySNshE2JWuX0"
   },
   "outputs": [],
   "source": [
    "bot_u = iscs.user.apply(lambda u: 'bot'  in u )\n",
    "bot_cont= iscs.body.apply(lambda u: '[bot]'  in u )"
   ]
  },
  {
   "cell_type": "code",
   "execution_count": null,
   "metadata": {
    "id": "peo02bI9WuX0"
   },
   "outputs": [],
   "source": [
    "bot_type = iscs.user_type=='Bot'"
   ]
  },
  {
   "cell_type": "code",
   "execution_count": null,
   "metadata": {
    "id": "N8nYBTsaWuX0",
    "outputId": "ab0f86b9-88b1-443c-dc89-1bf467dbc939"
   },
   "outputs": [],
   "source": [
    "bot_u.mean(),bot_cont.mean(), bot_type.mean()"
   ]
  },
  {
   "cell_type": "code",
   "execution_count": null,
   "metadata": {
    "id": "jT2i2ezKWuX0",
    "outputId": "f8dbac9b-2f80-4827-fe64-c3c175596086"
   },
   "outputs": [],
   "source": [
    "iscs[bot_cont][['user_type','user_login','body']].body.tolist()"
   ]
  },
  {
   "cell_type": "code",
   "execution_count": null,
   "metadata": {
    "id": "R8sQvoGTWuX0",
    "outputId": "12379863-d8c5-44b8-e56a-fb0a1e8235a9"
   },
   "outputs": [],
   "source": [
    "iss[iss.user_type=='Bot']"
   ]
  },
  {
   "cell_type": "markdown",
   "metadata": {
    "id": "a1KQFWV3WuX0"
   },
   "source": [
    "Temporal Features"
   ]
  },
  {
   "cell_type": "code",
   "execution_count": null,
   "metadata": {
    "id": "FACAOx0AWuX1"
   },
   "outputs": [],
   "source": [
    "def get_temporal_features(idf, icdf, idfK='number',icdfK='issue_num'):\n",
    "    idf['closure_duration'] =idf.closed_at - idf.created_at\n",
    "    icdf[icdfK] = icdf[icdfK].apply(int)\n",
    "\n",
    "    idfKeys =[idfK]\n",
    "    icdfKeys =[icdfK]\n",
    "\n",
    "    for p_name in idf.project.unique():\n",
    "        iMask = idf.project==p_name\n",
    "        icMask = icdf.project==p_name\n",
    "        ic1st = pd.merge(idf[iMask],icdf.loc[icMask,['id',icdfK,'created_at','user']], left_on=idfKeys,right_on=icdfKeys, how='left')\n",
    "        ic1st['u_xy_same'] = ic1st.user_x==ic1st.user_y\n",
    "\n",
    "        # #  self/other's comment\n",
    "        ic1 = ic1st[[ idfK, icdfK, 'project','title','u_xy_same', 'created_at_x',    'created_at_y',\n",
    "            'closure_duration',  'locked', 'comments']].groupby(idfKeys).min()\n",
    "        idf.loc[iMask,'1st_comment']=ic1.created_at_y-ic1.created_at_x\n",
    "\n",
    "        #  from others\n",
    "        ic1 = ic1st.loc[~ic1st.u_xy_same,[ idfK,icdfK,'project', 'title','u_xy_same', 'created_at_x',    'created_at_y',\n",
    "            'closure_duration',  'locked', 'comments']].groupby(idfKeys).min()\n",
    "        idf.loc[iMask,'1st_response']=ic1.created_at_y-ic1.created_at_x\n",
    "\n",
    "        # self comment\n",
    "        ic1 = ic1st.loc[ic1st.u_xy_same,[ idfK,icdfK, 'project','title','u_xy_same', 'created_at_x',    'created_at_y',\n",
    "            'closure_duration',  'locked', 'comments']].groupby(idfKeys).min()\n",
    "        idf.loc[iMask,'1st_self_comment']=ic1.created_at_y-ic1.created_at_x\n",
    "\n",
    "    return idf, icdf"
   ]
  },
  {
   "cell_type": "code",
   "execution_count": null,
   "metadata": {
    "id": "D9309B9HWuX1"
   },
   "outputs": [],
   "source": [
    "\n",
    "iss, iscs = get_temporal_features(iss,iscs)"
   ]
  },
  {
   "cell_type": "code",
   "execution_count": null,
   "metadata": {
    "id": "-J3uL4MiWuX1"
   },
   "outputs": [],
   "source": [
    "prcs['pr_num']= prcs.pull_request_url.apply(lambda s: int(s.split('/')[-1]))"
   ]
  },
  {
   "cell_type": "code",
   "execution_count": null,
   "metadata": {
    "id": "2VDjdtp8WuX1"
   },
   "outputs": [],
   "source": [
    "prs, prcs = get_temporal_features(prs,prcs,icdfK='pr_num')"
   ]
  },
  {
   "cell_type": "markdown",
   "metadata": {
    "id": "eKQzX8FQWuX1"
   },
   "source": []
  },
  {
   "cell_type": "code",
   "execution_count": null,
   "metadata": {
    "id": "ufvn3olMWuX1"
   },
   "outputs": [],
   "source": [
    "def get_agg_comment_features(idf, icdf, idfK='number',icdfK='issue_num'):\n",
    "\n",
    "    idf['closure_duration'] =idf.closed_at - idf.created_at\n",
    "    icdf[icdfK] = icdf[icdfK].apply(int)\n",
    "    idfKeys =['project',idfK]\n",
    "    icdfKeys =['project',icdfK]\n",
    "\n",
    "    aggf = {'user_type':lambda x:x.unique(),\n",
    "        'user_id':lambda x:x.nunique(),\n",
    "        'author_association':lambda x:x.unique(),\n",
    "        'react_+1': 'sum','react_-1': 'sum','react_laugh': 'sum','react_hooray': 'sum','react_confused': 'sum',\n",
    "        'react_heart': 'sum','react_rocket': 'sum','react_eyes': 'sum','react_total_count':'sum','is_dup_discussed':'sum',\n",
    "        'readability':'median', 'cr_senti':'median', 'is_toxic':'mean', 'is_useful':'mean'}\n",
    "\n",
    "    if icdfK != 'issue_num':\n",
    "        aggf.pop('is_dup_discussed') #PRS dont have\n",
    "\n",
    "    tdf = icdf.loc[:,['project',icdfK]+list(aggf.keys())].groupby(['project',icdfK]).agg(aggf).reset_index()\n",
    "\n",
    "    tdf = tdf.rename(columns={'user_type':'u_types', 'user_id':'n_uids', 'author_association': 'u_associations'})\n",
    "    tdf['n_utypes']= tdf.u_types.apply(len)\n",
    "    tdf['n_uassociations']= tdf.u_associations.apply(len)\n",
    "\n",
    "    idf = pd.merge(idf,tdf, left_on=idfKeys,right_on=icdfKeys, how='left', suffixes=('','_from_cmt'))\n",
    "\n",
    "\n",
    "    return idf, icdf"
   ]
  },
  {
   "cell_type": "code",
   "execution_count": null,
   "metadata": {
    "id": "JOfFSArUWuX1"
   },
   "outputs": [],
   "source": [
    "iss, iscs = get_agg_comment_features(iss,iscs)"
   ]
  },
  {
   "cell_type": "code",
   "execution_count": null,
   "metadata": {
    "id": "ocwjXZV9WuX1",
    "outputId": "e3e7c663-01ba-455b-de97-67ebc30753de"
   },
   "outputs": [],
   "source": [
    "iss"
   ]
  },
  {
   "cell_type": "code",
   "execution_count": null,
   "metadata": {
    "id": "kJHZo69IWuX1"
   },
   "outputs": [],
   "source": [
    "prs, prcs= get_agg_comment_features(prs,prcs,icdfK='pr_num')"
   ]
  },
  {
   "cell_type": "markdown",
   "metadata": {
    "id": "LUAduGaVWuX2"
   },
   "source": [
    " # New labels"
   ]
  },
  {
   "cell_type": "code",
   "execution_count": null,
   "metadata": {
    "id": "5tIsw-5tWuX2"
   },
   "outputs": [],
   "source": [
    "prs.label_names = prs.label_names.apply(lambda x: set(sorted(x)))\n",
    "iss.label_names = iss.label_names.apply(lambda x: set(sorted(x)))\n"
   ]
  },
  {
   "cell_type": "code",
   "execution_count": null,
   "metadata": {
    "id": "Vj9zJyeiWuX2"
   },
   "outputs": [],
   "source": [
    "lable_types ={ 'P1': set(),\n",
    " 'P2': set(),\n",
    " 'P3': set(),\n",
    " 'P4': set(),\n",
    " 'P5': set(),\n",
    " 'P6': set(),\n",
    " 'P7': set(),\n",
    " 'P8': set(),\n",
    " 'P9': set(),\n",
    " 'P10': set()\n",
    "}\n",
    "\n",
    "def is_new_type(p, type_set):\n",
    "    new= type_set-lable_types[p]\n",
    "    lable_types[p].update(type_set)\n",
    "    return new\n"
   ]
  },
  {
   "cell_type": "code",
   "execution_count": null,
   "metadata": {
    "id": "I4Gt3MbYWuX2"
   },
   "outputs": [],
   "source": [
    "# prs"
   ]
  },
  {
   "cell_type": "code",
   "execution_count": null,
   "metadata": {
    "id": "udvYrdLwWuX2"
   },
   "outputs": [],
   "source": [
    "\n",
    "prs['new_label'] = prs.apply(lambda r: is_new_type(r['project'],r['label_names']),axis=1)"
   ]
  },
  {
   "cell_type": "code",
   "execution_count": null,
   "metadata": {
    "id": "bpNEC9zgWuX2"
   },
   "outputs": [],
   "source": [
    "lable_types ={ 'P1': set(),\n",
    " 'P2': set(),\n",
    " 'P3': set(),\n",
    " 'P4': set(),\n",
    " 'P5': set(),\n",
    " 'P6': set(),\n",
    " 'P7': set(),\n",
    " 'P8': set(),\n",
    " 'P9': set(),\n",
    " 'P10': set()\n",
    "}\n",
    "\n",
    "iss['new_label'] = iss.apply(lambda r: is_new_type(r['project'],r['label_names']),axis=1)"
   ]
  },
  {
   "cell_type": "code",
   "execution_count": null,
   "metadata": {
    "id": "38cwmeJ0WuX2",
    "outputId": "0824dc72-ed49-4c09-fcd4-85a7fca8e26a"
   },
   "outputs": [],
   "source": [
    "prs['new_label'].apply(len).describe()"
   ]
  },
  {
   "cell_type": "code",
   "execution_count": null,
   "metadata": {
    "id": "67ViuHRfWuX2",
    "outputId": "159b2aa6-5580-4ce4-d60e-84611e10c01a"
   },
   "outputs": [],
   "source": [
    "iss['new_label'].apply(len).describe()"
   ]
  },
  {
   "cell_type": "code",
   "execution_count": null,
   "metadata": {
    "id": "_3qRheKnWuX2",
    "outputId": "903e5990-fdde-4fd1-d861-b12c726b6bdd"
   },
   "outputs": [],
   "source": [
    "iss[iss.new_label!=set()].sort_values(by='created_at')"
   ]
  },
  {
   "cell_type": "code",
   "execution_count": null,
   "metadata": {
    "id": "7CWWwuDtWuX2",
    "outputId": "32d4e1a7-ef2c-4bd5-f6a5-2c6101b9ec0c"
   },
   "outputs": [],
   "source": [
    "prs[prs.new_label!=set()].sort_values(by=['project','created_at'])"
   ]
  },
  {
   "cell_type": "markdown",
   "metadata": {
    "id": "qoSJLBeBWuX3"
   },
   "source": [
    "# Commits"
   ]
  },
  {
   "cell_type": "code",
   "execution_count": null,
   "metadata": {
    "id": "7trsnc4XWuX3"
   },
   "outputs": [],
   "source": [
    "commits['created_at'] = pd.to_datetime(commits['committer_date'], utc=True).dt.tz_convert('UTC')\n",
    "commits['authored_at'] = pd.to_datetime(commits['author_date'], utc=True).dt.tz_convert('UTC')"
   ]
  },
  {
   "cell_type": "markdown",
   "metadata": {
    "id": "ZkFV3bM-WuX3"
   },
   "source": [
    "\n",
    "\n",
    "\n",
    "# More features\n",
    "<!-- 1.1.1.2 -->"
   ]
  },
  {
   "cell_type": "code",
   "execution_count": null,
   "metadata": {
    "id": "aYGHubEOWuX3"
   },
   "outputs": [],
   "source": [
    "prs.loc[prs.milestone.notna(),'milestone_id'] = prs[prs.milestone.notna()].milestone.apply(lambda x: int(x['id']))\n"
   ]
  },
  {
   "cell_type": "code",
   "execution_count": null,
   "metadata": {
    "id": "p2Yg-isOWuX3"
   },
   "outputs": [],
   "source": [
    "prs['merge_duration'] = prs.merged_at - prs.created_at"
   ]
  },
  {
   "cell_type": "code",
   "execution_count": null,
   "metadata": {
    "id": "KX_0xPEhWuX3"
   },
   "outputs": [],
   "source": [
    "iss.loc[iss.milestone.notna(),'milestone_id'] = iss[iss.milestone.notna()].milestone.apply(lambda x: int(x['id']))\n"
   ]
  },
  {
   "cell_type": "code",
   "execution_count": null,
   "metadata": {
    "id": "a8xEkbQOWuX3"
   },
   "outputs": [],
   "source": [
    "iss['is_deduplicated']=(iss.is_dup_discussed.apply(lambda n: n>0) | iss.is_dup_labeled)"
   ]
  },
  {
   "cell_type": "code",
   "execution_count": null,
   "metadata": {
    "id": "wh5Hh5QTWuX3"
   },
   "outputs": [],
   "source": [
    "\n",
    "commits['author_affiliation'] =commits.author_email.apply(lambda s: s.split('@')[-1] if type(s)==str else '')\n",
    "commits['num_parents']=commits.parents.apply(lambda x: len(x.split()))\n"
   ]
  },
  {
   "cell_type": "markdown",
   "metadata": {
    "id": "9yYbsi3UWuX3"
   },
   "source": [
    "## Profiles"
   ]
  },
  {
   "cell_type": "code",
   "execution_count": null,
   "metadata": {
    "id": "6XhACwpsWuX3"
   },
   "outputs": [],
   "source": [
    "profiles = pd.read_csv('../data/profiles_loc.csv')"
   ]
  },
  {
   "cell_type": "code",
   "execution_count": null,
   "metadata": {
    "id": "KrATtvdjWuX3"
   },
   "outputs": [],
   "source": [
    "\n",
    "def addGenderLocation(pdf):\n",
    "    print(len(pdf))\n",
    "    pdf = pd.merge(pdf, profiles[['login','country', 'gender']], left_on='user_login', right_on='login', how='left',  suffixes=('_action', '_profile'))\n",
    "    print(len(pdf))\n",
    "\n",
    "    return pdf.drop(columns=['login'])"
   ]
  },
  {
   "cell_type": "code",
   "execution_count": null,
   "metadata": {
    "id": "OdGS8TKyWuX3"
   },
   "outputs": [],
   "source": [
    "iss = addGenderLocation( iss )\n",
    "iscs = addGenderLocation( iscs )\n",
    "prs = addGenderLocation( prs )\n",
    "prcs = addGenderLocation( prcs )"
   ]
  },
  {
   "cell_type": "code",
   "execution_count": null,
   "metadata": {
    "id": "eixmNmn6WuX4"
   },
   "outputs": [],
   "source": [
    "import numpy as np\n",
    "from collections import Counter\n",
    "\n",
    "def shannon_diversity_index(data):\n",
    "    # Count the frequency of each category\n",
    "    counts = Counter(data)\n",
    "    N = len(data)\n",
    "\n",
    "    # Proportions of each category\n",
    "    proportions = np.array(list(counts.values())) / N\n",
    "\n",
    "    # Shannon Diversity Index calculation\n",
    "    shannon_index = -np.sum(proportions * np.log(proportions))\n",
    "\n",
    "    return shannon_index"
   ]
  },
  {
   "cell_type": "code",
   "execution_count": null,
   "metadata": {
    "id": "m0oUDjDUWuX4"
   },
   "outputs": [],
   "source": [
    "iss.to_csv('../data/interim/fts/iss.csv')\n",
    "iscs.to_csv('../data/interim/fts/iscs.csv')\n",
    "prs.to_csv('../data/interim/fts/prs.csv')\n",
    "prcs.to_csv('../data/interim/fts/prcs.csv')\n",
    "commits.to_csv('../data/interim/fts/commits.csv')"
   ]
  },
  {
   "cell_type": "markdown",
   "metadata": {
    "id": "uNMK3NpuWuX4"
   },
   "source": [
    "Thank you!"
   ]
  }
 ],
 "metadata": {
  "colab": {
   "provenance": []
  },
  "kernelspec": {
   "display_name": "Python 3",
   "language": "python",
   "name": "python3"
  },
  "language_info": {
   "codemirror_mode": {
    "name": "ipython",
    "version": 3
   },
   "file_extension": ".py",
   "mimetype": "text/x-python",
   "name": "python",
   "nbconvert_exporter": "python",
   "pygments_lexer": "ipython3",
   "version": "3.12.4"
  }
 },
 "nbformat": 4,
 "nbformat_minor": 0
}
